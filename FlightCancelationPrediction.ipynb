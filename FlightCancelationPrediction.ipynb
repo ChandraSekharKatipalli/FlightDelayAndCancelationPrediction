{
 "cells": [
  {
   "cell_type": "markdown",
   "metadata": {
    "application/vnd.databricks.v1+cell": {
     "cellMetadata": {
      "byteLimit": 2048000,
      "rowLimit": 10000
     },
     "inputWidgets": {},
     "nuid": "02ce0ea3-46de-4d44-a7bd-5de95d029921",
     "showTitle": false,
     "title": ""
    }
   },
   "source": [
    "## About Data\n",
    "- **Name** : Flight Status Prediction\n",
    "- **Source** : Kaggle (https://www.kaggle.com/datasets/robikscube/flight-delay-dataset-20182022)\n",
    "\n",
    "##### Description\n",
    "- This dataset contains all flight information including cancellation and delays by airline for dates back to January 2018 to year 2022. For your convenience you can use the Combined_Flights_XXXX.csv or Combined_Flights_XXXX.parquet files to access the combined data for the entire year.\n",
    "\n",
    "##### Columns\n",
    "- The DataSet has total of 61 columns and over 25M records.\n",
    "\n",
    "\n"
   ]
  },
  {
   "cell_type": "markdown",
   "metadata": {
    "application/vnd.databricks.v1+cell": {
     "cellMetadata": {
      "byteLimit": 2048000,
      "rowLimit": 10000
     },
     "inputWidgets": {},
     "nuid": "d22263cf-5e1b-4645-bc4f-ac784b985fb2",
     "showTitle": false,
     "title": ""
    }
   },
   "source": [
    "### Importing Required Libraries"
   ]
  },
  {
   "cell_type": "code",
   "execution_count": null,
   "metadata": {
    "application/vnd.databricks.v1+cell": {
     "cellMetadata": {
      "byteLimit": 2048000,
      "rowLimit": 10000
     },
     "inputWidgets": {},
     "nuid": "c26d0ba7-5a3e-4dc4-b61d-74cc212ac535",
     "showTitle": false,
     "title": ""
    }
   },
   "outputs": [],
   "source": [
    "import pyspark\n",
    "from pyspark.sql import SparkSession\n",
    "from pyspark.sql.types import StructType, StringType, IntegerType\n",
    "from pyspark.sql.functions import *"
   ]
  },
  {
   "cell_type": "markdown",
   "metadata": {
    "application/vnd.databricks.v1+cell": {
     "cellMetadata": {
      "byteLimit": 2048000,
      "rowLimit": 10000
     },
     "inputWidgets": {},
     "nuid": "7a624e70-d885-45d3-b1f5-605a20bc24a4",
     "showTitle": false,
     "title": ""
    }
   },
   "source": [
    "### Creating SparkSession with appName \"Data603_FinalProject\""
   ]
  },
  {
   "cell_type": "code",
   "execution_count": null,
   "metadata": {
    "application/vnd.databricks.v1+cell": {
     "cellMetadata": {
      "byteLimit": 2048000,
      "rowLimit": 10000
     },
     "inputWidgets": {},
     "nuid": "b1d5618f-db7a-4d8a-9c34-5a09594315c6",
     "showTitle": false,
     "title": ""
    }
   },
   "outputs": [],
   "source": [
    "spark = SparkSession.builder.appName('Data603_FinalProject').getOrCreate()"
   ]
  },
  {
   "cell_type": "markdown",
   "metadata": {
    "application/vnd.databricks.v1+cell": {
     "cellMetadata": {
      "byteLimit": 2048000,
      "rowLimit": 10000
     },
     "inputWidgets": {},
     "nuid": "e02e67c1-a1ae-45b4-92e3-41cdf763c639",
     "showTitle": false,
     "title": ""
    }
   },
   "source": [
    "### Importing Data from DBFS (Here we are choosing .parquet files because size issues)"
   ]
  },
  {
   "cell_type": "code",
   "execution_count": null,
   "metadata": {
    "application/vnd.databricks.v1+cell": {
     "cellMetadata": {
      "byteLimit": 2048000,
      "rowLimit": 10000
     },
     "inputWidgets": {},
     "nuid": "422b7a2c-5bfc-4d4e-bb7a-47bbe4d8d58f",
     "showTitle": false,
     "title": ""
    }
   },
   "outputs": [],
   "source": [
    "df = spark.read.parquet('/FileStore/tables/*.parquet')"
   ]
  },
  {
   "cell_type": "markdown",
   "metadata": {
    "application/vnd.databricks.v1+cell": {
     "cellMetadata": {
      "byteLimit": 2048000,
      "rowLimit": 10000
     },
     "inputWidgets": {},
     "nuid": "43400558-c8e2-4bed-a79b-c7ca601dd1d4",
     "showTitle": false,
     "title": ""
    }
   },
   "source": [
    "### Total Number of Records"
   ]
  },
  {
   "cell_type": "code",
   "execution_count": null,
   "metadata": {
    "application/vnd.databricks.v1+cell": {
     "cellMetadata": {
      "byteLimit": 2048000,
      "rowLimit": 10000
     },
     "inputWidgets": {},
     "nuid": "3619e552-9efe-4dad-bf55-d031bc71d772",
     "showTitle": false,
     "title": ""
    }
   },
   "outputs": [],
   "source": [
    "df.count()"
   ]
  },
  {
   "cell_type": "markdown",
   "metadata": {
    "application/vnd.databricks.v1+cell": {
     "cellMetadata": {
      "byteLimit": 2048000,
      "rowLimit": 10000
     },
     "inputWidgets": {},
     "nuid": "715be5d8-f56c-4ceb-ad82-06c76e2f4439",
     "showTitle": false,
     "title": ""
    }
   },
   "source": [
    "### DataFrame Overview"
   ]
  },
  {
   "cell_type": "code",
   "execution_count": null,
   "metadata": {
    "application/vnd.databricks.v1+cell": {
     "cellMetadata": {
      "byteLimit": 2048000,
      "rowLimit": 10000
     },
     "inputWidgets": {},
     "nuid": "a68739e1-5c89-4df8-af50-b148fdaddad2",
     "showTitle": false,
     "title": ""
    }
   },
   "outputs": [],
   "source": [
    "display(df)"
   ]
  },
  {
   "cell_type": "markdown",
   "metadata": {
    "application/vnd.databricks.v1+cell": {
     "cellMetadata": {
      "byteLimit": 2048000,
      "rowLimit": 10000
     },
     "inputWidgets": {},
     "nuid": "4864c875-8488-49bb-9e00-839fc9ebaade",
     "showTitle": false,
     "title": ""
    }
   },
   "source": [
    "### Schema of the DataFrame"
   ]
  },
  {
   "cell_type": "code",
   "execution_count": null,
   "metadata": {
    "application/vnd.databricks.v1+cell": {
     "cellMetadata": {
      "byteLimit": 2048000,
      "rowLimit": 10000
     },
     "inputWidgets": {},
     "nuid": "82eadfd9-a7f4-4fd6-b539-1550efff8a7e",
     "showTitle": false,
     "title": ""
    }
   },
   "outputs": [],
   "source": [
    "df.printSchema()"
   ]
  },
  {
   "cell_type": "markdown",
   "metadata": {
    "application/vnd.databricks.v1+cell": {
     "cellMetadata": {
      "byteLimit": 2048000,
      "rowLimit": 10000
     },
     "inputWidgets": {},
     "nuid": "8d3d1668-b2e7-42bc-81ac-8183570d699c",
     "showTitle": false,
     "title": ""
    }
   },
   "source": [
    "# Data Cleaning"
   ]
  },
  {
   "cell_type": "markdown",
   "metadata": {
    "application/vnd.databricks.v1+cell": {
     "cellMetadata": {
      "byteLimit": 2048000,
      "rowLimit": 10000
     },
     "inputWidgets": {},
     "nuid": "b114e611-6fc6-4333-aefe-d28017688ad8",
     "showTitle": false,
     "title": ""
    }
   },
   "source": [
    "#### Finding Null Values"
   ]
  },
  {
   "cell_type": "code",
   "execution_count": null,
   "metadata": {
    "application/vnd.databricks.v1+cell": {
     "cellMetadata": {
      "byteLimit": 2048000,
      "rowLimit": 10000
     },
     "inputWidgets": {},
     "nuid": "15b6c8d8-40dc-488e-8d0f-e4626308827e",
     "showTitle": false,
     "title": ""
    }
   },
   "outputs": [],
   "source": [
    "def findMissing():\n",
    "    from pyspark.sql.functions import col, isnan, when\n",
    "    total_count = 0\n",
    "    for column in df.columns:\n",
    "        null_count = df[df[column].isNull()].count()\n",
    "        total_count = total_count + null_count\n",
    "        print(f\"Number of null or NA values in column {column}: {null_count}\")\n",
    "    \n",
    "    print(f'Total Null Values: {total_count}, Null Values Percentage: {total_count * 100/ df.count()}')"
   ]
  },
  {
   "cell_type": "markdown",
   "metadata": {
    "application/vnd.databricks.v1+cell": {
     "cellMetadata": {
      "byteLimit": 2048000,
      "rowLimit": 10000
     },
     "inputWidgets": {},
     "nuid": "479190bd-502d-4993-bbe1-3fb01ddc3618",
     "showTitle": false,
     "title": ""
    }
   },
   "source": [
    "#### Count of Null Values by Column"
   ]
  },
  {
   "cell_type": "code",
   "execution_count": null,
   "metadata": {
    "application/vnd.databricks.v1+cell": {
     "cellMetadata": {
      "byteLimit": 2048000,
      "rowLimit": 10000
     },
     "inputWidgets": {},
     "nuid": "15bdd8c0-32e1-4913-ae0b-bca579670db4",
     "showTitle": false,
     "title": ""
    }
   },
   "outputs": [],
   "source": [
    "findMissing()"
   ]
  },
  {
   "cell_type": "markdown",
   "metadata": {
    "application/vnd.databricks.v1+cell": {
     "cellMetadata": {
      "byteLimit": 2048000,
      "rowLimit": 10000
     },
     "inputWidgets": {},
     "nuid": "7257f0db-63b8-4d45-a13d-77886b828714",
     "showTitle": false,
     "title": ""
    }
   },
   "source": [
    "###### Filling null values of DepDelayMinutes as DepDelay and DepDelayMinutes will be 0 if there is no Delay. \n",
    "###### Note: We considered DepTime as NotNull because if incase the flight has canceled then it may not have DepTime at all."
   ]
  },
  {
   "cell_type": "code",
   "execution_count": null,
   "metadata": {
    "application/vnd.databricks.v1+cell": {
     "cellMetadata": {
      "byteLimit": 2048000,
      "rowLimit": 10000
     },
     "inputWidgets": {},
     "nuid": "42890251-6dba-458c-b021-81628953306c",
     "showTitle": false,
     "title": ""
    }
   },
   "outputs": [],
   "source": [
    "df = df.withColumn(\"DepDelayMinutes\", when((col(\"DepDelay\").isNull()) & (col(\"DepDelayMinutes\").isNull()) & (col(\"DepTime\").isNotNull()), 0).otherwise(col(\"DepDelayMinutes\")))\n",
    "\n",
    "df = df.withColumn(\"DepDelay\", when((col(\"DepDelay\").isNull()) & (col(\"DepDelayMinutes\").isNull()) & (col(\"DepTime\").isNotNull()), 0).otherwise(col(\"DepDelay\")))"
   ]
  },
  {
   "cell_type": "markdown",
   "metadata": {
    "application/vnd.databricks.v1+cell": {
     "cellMetadata": {
      "byteLimit": 2048000,
      "rowLimit": 10000
     },
     "inputWidgets": {},
     "nuid": "3e5ea691-c11b-4456-91e0-1a5cea5913e3",
     "showTitle": false,
     "title": ""
    }
   },
   "source": [
    "#### Null value count after replacing with 0"
   ]
  },
  {
   "cell_type": "code",
   "execution_count": null,
   "metadata": {
    "application/vnd.databricks.v1+cell": {
     "cellMetadata": {
      "byteLimit": 2048000,
      "rowLimit": 10000
     },
     "inputWidgets": {},
     "nuid": "8cb71912-d9f3-492a-b2f7-707caf834d20",
     "showTitle": false,
     "title": ""
    }
   },
   "outputs": [],
   "source": [
    "null_count_depdelay_minutes = df.where(col(\"DepDelayMinutes\").isNull()).count()\n",
    "print(f\"Count of null values in 'DepDelayMinutes': {null_count_depdelay_minutes}\")\n",
    "\n",
    "null_count_depdelay = df.where(col(\"DepDelay\").isNull()).count()\n",
    "print(f\"Count of null values in 'DepDelay': {null_count_depdelay}\")\n"
   ]
  },
  {
   "cell_type": "markdown",
   "metadata": {
    "application/vnd.databricks.v1+cell": {
     "cellMetadata": {
      "byteLimit": 2048000,
      "rowLimit": 10000
     },
     "inputWidgets": {},
     "nuid": "25480ad4-b060-4fdf-9456-7252385c6ec5",
     "showTitle": false,
     "title": ""
    }
   },
   "source": [
    "#### Filling null values if DepTime is Null which means the flight has canceled"
   ]
  },
  {
   "cell_type": "code",
   "execution_count": null,
   "metadata": {
    "application/vnd.databricks.v1+cell": {
     "cellMetadata": {
      "byteLimit": 2048000,
      "rowLimit": 10000
     },
     "inputWidgets": {},
     "nuid": "0e4b44b8-2236-447a-8ac0-8c5fa2b521a8",
     "showTitle": false,
     "title": ""
    }
   },
   "outputs": [],
   "source": [
    "df = df.withColumn(\"DepDelayMinutes\", when((col(\"DepDelay\").isNull()) & (col(\"DepDelayMinutes\").isNull()) & (col(\"DepTime\").isNull()), 0).otherwise(col(\"DepDelayMinutes\")))\n",
    "\n",
    "df = df.withColumn(\"DepDelay\", when((col(\"DepDelay\").isNull()) & (col(\"DepDelayMinutes\") == 0) & (col(\"DepTime\").isNull()), 0).otherwise(col(\"DepDelay\")))\n",
    "\n",
    "df = df.withColumn(\"DepTime\", when((col(\"DepDelay\") == 0) & (col(\"DepDelayMinutes\") == 0) & (col(\"DepTime\").isNull()), 0).otherwise(col(\"DepTime\")))\n",
    "\n",
    "\n",
    "null_count_depdelay_minutes = df.where(col(\"DepDelayMinutes\").isNull()).count()\n",
    "print(f\"Count of null values in 'DepDelayMinutes': {null_count_depdelay_minutes}\")\n",
    "\n",
    "null_count_depdelay = df.where(col(\"DepDelay\").isNull()).count()\n",
    "print(f\"Count of null values in 'DepDelay': {null_count_depdelay}\")\n",
    "\n",
    "null_count_deptime = df.where(col(\"DepTime\").isNull()).count()\n",
    "print(f\"Count of null values in 'DepTime': {null_count_deptime}\")"
   ]
  },
  {
   "cell_type": "markdown",
   "metadata": {
    "application/vnd.databricks.v1+cell": {
     "cellMetadata": {
      "byteLimit": 2048000,
      "rowLimit": 10000
     },
     "inputWidgets": {},
     "nuid": "4695da01-cbb1-4c8c-9a7f-f786cd303053",
     "showTitle": false,
     "title": ""
    }
   },
   "source": [
    "#### Filling null values of DepDelay where CRSDepTime == DepTime. This means the flight is on time"
   ]
  },
  {
   "cell_type": "code",
   "execution_count": null,
   "metadata": {
    "application/vnd.databricks.v1+cell": {
     "cellMetadata": {
      "byteLimit": 2048000,
      "rowLimit": 10000
     },
     "inputWidgets": {},
     "nuid": "5e2629e9-dd5e-4645-8682-ad9cc14096fd",
     "showTitle": false,
     "title": ""
    }
   },
   "outputs": [],
   "source": [
    "df = df.withColumn(\"DepDelay\", when(col(\"CRSDepTime\") == col(\"DepTime\"), 0).otherwise(col(\"DepDelay\")))"
   ]
  },
  {
   "cell_type": "markdown",
   "metadata": {
    "application/vnd.databricks.v1+cell": {
     "cellMetadata": {
      "byteLimit": 2048000,
      "rowLimit": 10000
     },
     "inputWidgets": {},
     "nuid": "d08bc19e-2ae3-476b-b8fd-015aaa0509bb",
     "showTitle": false,
     "title": ""
    }
   },
   "source": [
    "# Featuring Engineering"
   ]
  },
  {
   "cell_type": "markdown",
   "metadata": {
    "application/vnd.databricks.v1+cell": {
     "cellMetadata": {
      "byteLimit": 2048000,
      "rowLimit": 10000
     },
     "inputWidgets": {},
     "nuid": "3665856f-5c8c-4ec7-8cdb-fdb98ba65505",
     "showTitle": false,
     "title": ""
    }
   },
   "source": [
    "#### Creating Delayed and EarlyDep using DepDelay"
   ]
  },
  {
   "cell_type": "code",
   "execution_count": null,
   "metadata": {
    "application/vnd.databricks.v1+cell": {
     "cellMetadata": {
      "byteLimit": 2048000,
      "rowLimit": 10000
     },
     "inputWidgets": {},
     "nuid": "b1d876b3-a234-4056-a6a4-a4a39c2cfb0f",
     "showTitle": false,
     "title": ""
    }
   },
   "outputs": [],
   "source": [
    "df = df.withColumn(\"Delayed\", when((col(\"DepDelay\") > 0) | (col(\"DepDelay\") == 0), 0).otherwise(1))\n",
    "df = df.withColumn(\"EarlyDep\", when((col(\"DepDelay\") < 0) | (col(\"DepDelay\") == 0), 0).otherwise(1))"
   ]
  },
  {
   "cell_type": "code",
   "execution_count": null,
   "metadata": {
    "application/vnd.databricks.v1+cell": {
     "cellMetadata": {
      "byteLimit": 2048000,
      "rowLimit": 10000
     },
     "inputWidgets": {},
     "nuid": "c6464e96-cd33-4cf6-9053-844a298bfdfb",
     "showTitle": false,
     "title": ""
    }
   },
   "outputs": [],
   "source": [
    "display(df)"
   ]
  },
  {
   "cell_type": "markdown",
   "metadata": {
    "application/vnd.databricks.v1+cell": {
     "cellMetadata": {
      "byteLimit": 2048000,
      "rowLimit": 10000
     },
     "inputWidgets": {},
     "nuid": "e2423d7b-fdd4-4987-a644-f77e8a01c46b",
     "showTitle": false,
     "title": ""
    }
   },
   "source": [
    "#### Encoding Cancelled and Diverted using StringIndexer"
   ]
  },
  {
   "cell_type": "code",
   "execution_count": null,
   "metadata": {
    "application/vnd.databricks.v1+cell": {
     "cellMetadata": {
      "byteLimit": 2048000,
      "rowLimit": 10000
     },
     "inputWidgets": {},
     "nuid": "bac6b7cc-833a-49a6-8036-cde29d827bd4",
     "showTitle": false,
     "title": ""
    }
   },
   "outputs": [],
   "source": [
    "df = df.withColumn(\"Cancelled\", col(\"Cancelled\").cast(\"string\"))\n",
    "df = df.withColumn(\"Diverted\", col(\"Diverted\").cast(\"string\"))"
   ]
  },
  {
   "cell_type": "code",
   "execution_count": null,
   "metadata": {
    "application/vnd.databricks.v1+cell": {
     "cellMetadata": {
      "byteLimit": 2048000,
      "rowLimit": 10000
     },
     "inputWidgets": {},
     "nuid": "983bee8c-d7dd-4519-8bf1-d0fe5216e1fd",
     "showTitle": false,
     "title": ""
    }
   },
   "outputs": [],
   "source": [
    "from pyspark.ml.feature import StringIndexer\n",
    "\n",
    "# Create a StringIndexer\n",
    "indexer_C = StringIndexer(inputCol=\"Cancelled\", outputCol=\"Cancelled_Flight\")\n",
    "\n",
    "# Fit and transform the DataFrame\n",
    "df = indexer_C.fit(df).transform(df)"
   ]
  },
  {
   "cell_type": "code",
   "execution_count": null,
   "metadata": {
    "application/vnd.databricks.v1+cell": {
     "cellMetadata": {
      "byteLimit": 2048000,
      "rowLimit": 10000
     },
     "inputWidgets": {},
     "nuid": "e89ce871-b2f8-4048-8381-bb1de2732ab5",
     "showTitle": false,
     "title": ""
    }
   },
   "outputs": [],
   "source": [
    "from pyspark.ml.feature import StringIndexer\n",
    "\n",
    "# Create a StringIndexer\n",
    "indexer_D = StringIndexer(inputCol=\"Diverted\", outputCol=\"Diverted_Flight\")\n",
    "\n",
    "# Fit and transform the DataFrame\n",
    "df = indexer_D.fit(df).transform(df)"
   ]
  },
  {
   "cell_type": "code",
   "execution_count": null,
   "metadata": {
    "application/vnd.databricks.v1+cell": {
     "cellMetadata": {
      "byteLimit": 2048000,
      "rowLimit": 10000
     },
     "inputWidgets": {},
     "nuid": "a4a182db-f861-4302-9123-d26797004563",
     "showTitle": false,
     "title": ""
    }
   },
   "outputs": [],
   "source": [
    "display(df)"
   ]
  },
  {
   "cell_type": "markdown",
   "metadata": {
    "application/vnd.databricks.v1+cell": {
     "cellMetadata": {
      "byteLimit": 2048000,
      "rowLimit": 10000
     },
     "inputWidgets": {},
     "nuid": "fe97885a-c946-463a-bc30-0f959e28292f",
     "showTitle": false,
     "title": ""
    }
   },
   "source": [
    "#### Dropping unwanted Columns"
   ]
  },
  {
   "cell_type": "code",
   "execution_count": null,
   "metadata": {
    "application/vnd.databricks.v1+cell": {
     "cellMetadata": {
      "byteLimit": 2048000,
      "rowLimit": 10000
     },
     "inputWidgets": {},
     "nuid": "a713e03a-3e04-47c5-89a1-018bf357941d",
     "showTitle": false,
     "title": ""
    }
   },
   "outputs": [],
   "source": [
    "df = df.drop(\"Cancelled\")\n",
    "df = df.drop(\"Diverted\")\n",
    "df = df.drop(\"FlightDate\")"
   ]
  },
  {
   "cell_type": "code",
   "execution_count": null,
   "metadata": {
    "application/vnd.databricks.v1+cell": {
     "cellMetadata": {
      "byteLimit": 2048000,
      "rowLimit": 10000
     },
     "inputWidgets": {},
     "nuid": "c413513d-42bc-4fff-8be0-60a5ab07f2fb",
     "showTitle": false,
     "title": ""
    }
   },
   "outputs": [],
   "source": [
    "df = df.drop(\"DepDelayMinutes\")\n",
    "df = df.drop(\"DepDelay\")"
   ]
  },
  {
   "cell_type": "code",
   "execution_count": null,
   "metadata": {
    "application/vnd.databricks.v1+cell": {
     "cellMetadata": {
      "byteLimit": 2048000,
      "rowLimit": 10000
     },
     "inputWidgets": {},
     "nuid": "7f51a4ed-2e65-4fbd-a294-c83f8f39c8ec",
     "showTitle": false,
     "title": ""
    }
   },
   "outputs": [],
   "source": [
    "df = df.drop(\"Operated_or_Branded_Code_Share_Partners\")\n",
    "df = df.drop(\"DOT_ID_Marketing_Airline\")\n",
    "df = df.drop(\"IATA_Code_Marketing_Airline\")\n",
    "df = df.drop(\"Flight_Number_Marketing_Airline\")\n",
    "df = df.drop(\"Operating_Airline\")\n",
    "df = df.drop(\"DOT_ID_Operating_Airline\")\n",
    "df = df.drop(\"IATA_Code_Operating_Airline\")\n",
    "df = df.drop(\"Tail_Number\")\n",
    "df = df.drop(\"Flight_Number_Operating_Airline\")\n",
    "df = df.drop(\"OriginAirportID\")\n",
    "df = df.drop(\"OriginAirportSeqID\")\n",
    "df = df.drop(\"OriginCityMarketID\")\n",
    "df = df.drop(\"OriginStateFips\")\n",
    "df = df.drop(\"OriginWac\")\n",
    "df = df.drop(\"DestAirportID\")\n",
    "df = df.drop(\"DestAirportSeqID\")\n",
    "df = df.drop(\"DestCityMarketID\")\n",
    "df = df.drop(\"DestStateFips\")\n",
    "df = df.drop(\"DestWac\")\n",
    "df = df.drop(\"DepTimeBlk\")\n",
    "df = df.drop(\"ArrTimeBlk\")"
   ]
  },
  {
   "cell_type": "code",
   "execution_count": null,
   "metadata": {
    "application/vnd.databricks.v1+cell": {
     "cellMetadata": {
      "byteLimit": 2048000,
      "rowLimit": 10000
     },
     "inputWidgets": {},
     "nuid": "6d642ab8-a9f9-476d-a360-aaf5c6980c8a",
     "showTitle": false,
     "title": ""
    }
   },
   "outputs": [],
   "source": [
    "findMissing()"
   ]
  },
  {
   "cell_type": "markdown",
   "metadata": {
    "application/vnd.databricks.v1+cell": {
     "cellMetadata": {
      "byteLimit": 2048000,
      "rowLimit": 10000
     },
     "inputWidgets": {},
     "nuid": "ecb8724e-4ef5-44d2-b97e-3ce464ed38c3",
     "showTitle": false,
     "title": ""
    }
   },
   "source": [
    "#### Creating 'AirTraffic' column based on total of flights that are scheduled on the same hour, day, month, year."
   ]
  },
  {
   "cell_type": "code",
   "execution_count": null,
   "metadata": {
    "application/vnd.databricks.v1+cell": {
     "cellMetadata": {
      "byteLimit": 2048000,
      "rowLimit": 10000
     },
     "inputWidgets": {},
     "nuid": "c7a2e3d7-96f3-48e1-8f8c-b2a6e073a617",
     "showTitle": false,
     "title": ""
    }
   },
   "outputs": [],
   "source": [
    "df = df.withColumn(\"DepTime\", col(\"DepTime\").cast('string'))\n",
    "\n",
    "df = df.withColumn(\"hour\", when(length(col(\"DepTime\")) == 6, col(\"DepTime\").substr(1, 2)).otherwise(col(\"DepTime\").substr(1, 1)))"
   ]
  },
  {
   "cell_type": "code",
   "execution_count": null,
   "metadata": {
    "application/vnd.databricks.v1+cell": {
     "cellMetadata": {
      "byteLimit": 2048000,
      "rowLimit": 10000
     },
     "inputWidgets": {},
     "nuid": "9761c843-73b3-4560-af5e-924dbbbdd071",
     "showTitle": false,
     "title": ""
    }
   },
   "outputs": [],
   "source": [
    "df = df.drop(\"DepTime\")"
   ]
  },
  {
   "cell_type": "code",
   "execution_count": null,
   "metadata": {
    "application/vnd.databricks.v1+cell": {
     "cellMetadata": {
      "byteLimit": 2048000,
      "rowLimit": 10000
     },
     "inputWidgets": {},
     "nuid": "ded87cfe-26ee-47e1-a986-dcef179c8c65",
     "showTitle": false,
     "title": ""
    }
   },
   "outputs": [],
   "source": [
    "from pyspark.sql.window import Window\n",
    "\n",
    "windowSpec = Window.partitionBy(\"Origin\", \"hour\", \"DayofMonth\", \"Month\", \"Year\")\n",
    "\n",
    "df = df.withColumn(\"AirTraffic\", count(\"*\").over(windowSpec))"
   ]
  },
  {
   "cell_type": "code",
   "execution_count": null,
   "metadata": {
    "application/vnd.databricks.v1+cell": {
     "cellMetadata": {
      "byteLimit": 2048000,
      "rowLimit": 10000
     },
     "inputWidgets": {},
     "nuid": "df7c19a7-9146-484a-bbb9-76e852bf5e49",
     "showTitle": false,
     "title": ""
    }
   },
   "outputs": [],
   "source": [
    "df = df.drop(\"DivAirportLandings\")"
   ]
  },
  {
   "cell_type": "markdown",
   "metadata": {
    "application/vnd.databricks.v1+cell": {
     "cellMetadata": {
      "byteLimit": 2048000,
      "rowLimit": 10000
     },
     "inputWidgets": {},
     "nuid": "ca32a068-c556-4e15-932a-1f75dfff2614",
     "showTitle": false,
     "title": ""
    }
   },
   "source": [
    "#### Displaying Final DataFrame"
   ]
  },
  {
   "cell_type": "code",
   "execution_count": null,
   "metadata": {
    "application/vnd.databricks.v1+cell": {
     "cellMetadata": {
      "byteLimit": 2048000,
      "rowLimit": 10000
     },
     "inputWidgets": {},
     "nuid": "1fc361a7-4c1c-4e77-b06d-a08afa617f09",
     "showTitle": false,
     "title": ""
    }
   },
   "outputs": [],
   "source": [
    "display(df)"
   ]
  },
  {
   "cell_type": "markdown",
   "metadata": {
    "application/vnd.databricks.v1+cell": {
     "cellMetadata": {
      "byteLimit": 2048000,
      "rowLimit": 10000
     },
     "inputWidgets": {},
     "nuid": "b6803def-179b-406d-be7e-da00b8b2f07e",
     "showTitle": false,
     "title": ""
    }
   },
   "source": [
    "# Exploratory Data Analysis"
   ]
  },
  {
   "cell_type": "markdown",
   "metadata": {
    "application/vnd.databricks.v1+cell": {
     "cellMetadata": {
      "byteLimit": 2048000,
      "rowLimit": 10000
     },
     "inputWidgets": {},
     "nuid": "dc41b5d9-6f9d-4fde-8921-3f4b2c10789d",
     "showTitle": false,
     "title": ""
    }
   },
   "source": [
    "#### Number of flights per year"
   ]
  },
  {
   "cell_type": "code",
   "execution_count": null,
   "metadata": {
    "application/vnd.databricks.v1+cell": {
     "cellMetadata": {
      "byteLimit": 2048000,
      "rowLimit": 10000
     },
     "inputWidgets": {},
     "nuid": "3c40865f-1c01-4b0d-bb0e-32e25f5d4b9a",
     "showTitle": false,
     "title": ""
    }
   },
   "outputs": [],
   "source": [
    "#Number of flights per year\n",
    "from pyspark.sql.functions import col, isnan, when,count,desc,expr,substring,length,lpad\n",
    "flights_per_year = df.groupBy(\"year\").agg(count(\"year\").alias(\"num_flights\")).toPandas()\n",
    "flights_per_year"
   ]
  },
  {
   "cell_type": "code",
   "execution_count": null,
   "metadata": {
    "application/vnd.databricks.v1+cell": {
     "cellMetadata": {
      "byteLimit": 2048000,
      "rowLimit": 10000
     },
     "inputWidgets": {},
     "nuid": "28eacb17-9e81-45a7-a066-151e0e94cc2e",
     "showTitle": false,
     "title": ""
    }
   },
   "outputs": [],
   "source": [
    "#Plotting graph for yearly flights\n",
    "import matplotlib.pyplot as plt\n",
    "import seaborn as sns\n",
    "\n",
    "plt.figure(figsize=(15,10))\n",
    "sns.barplot(x = 'year', y = 'num_flights', data =flights_per_year)\n",
    "plt.title(\"Flights on yearly basis\", size = 20)"
   ]
  },
  {
   "cell_type": "markdown",
   "metadata": {
    "application/vnd.databricks.v1+cell": {
     "cellMetadata": {
      "byteLimit": 2048000,
      "rowLimit": 10000
     },
     "inputWidgets": {},
     "nuid": "5568db8c-d46c-4b0d-9430-489121a03e2e",
     "showTitle": false,
     "title": ""
    }
   },
   "source": [
    "#### Number of flights per month"
   ]
  },
  {
   "cell_type": "code",
   "execution_count": null,
   "metadata": {
    "application/vnd.databricks.v1+cell": {
     "cellMetadata": {
      "byteLimit": 2048000,
      "rowLimit": 10000
     },
     "inputWidgets": {},
     "nuid": "10eaa63b-b33f-42a3-929c-9a3adf13251e",
     "showTitle": false,
     "title": ""
    }
   },
   "outputs": [],
   "source": [
    "#Number of flights per month\n",
    "flights_per_month = df.groupBy(\"Month\").agg(count(\"month\").alias(\"num_flights_monthly\")).toPandas()\n",
    "flights_per_month"
   ]
  },
  {
   "cell_type": "code",
   "execution_count": null,
   "metadata": {
    "application/vnd.databricks.v1+cell": {
     "cellMetadata": {
      "byteLimit": 2048000,
      "rowLimit": 10000
     },
     "inputWidgets": {},
     "nuid": "6abac873-3704-43ba-a997-6024a5fd71c0",
     "showTitle": false,
     "title": ""
    }
   },
   "outputs": [],
   "source": [
    "#Plotting graph for monthly flights\n",
    "plt.figure(figsize=(15,10))\n",
    "sns.barplot(x = 'Month', y = 'num_flights_monthly', data =flights_per_month)\n",
    "plt.title(\"Flights on monthly basis\", size = 20)"
   ]
  },
  {
   "cell_type": "markdown",
   "metadata": {
    "application/vnd.databricks.v1+cell": {
     "cellMetadata": {
      "byteLimit": 2048000,
      "rowLimit": 10000
     },
     "inputWidgets": {},
     "nuid": "2fad967c-cf26-49fe-8574-e50c07e4b96a",
     "showTitle": false,
     "title": ""
    }
   },
   "source": [
    "#### Nmuber of flights per quater of a year"
   ]
  },
  {
   "cell_type": "code",
   "execution_count": null,
   "metadata": {
    "application/vnd.databricks.v1+cell": {
     "cellMetadata": {
      "byteLimit": 2048000,
      "rowLimit": 10000
     },
     "inputWidgets": {},
     "nuid": "fec70a98-68f2-49bf-b7a1-08a62a14e35a",
     "showTitle": false,
     "title": ""
    }
   },
   "outputs": [],
   "source": [
    "#Nmuber of flights per quater of a year\n",
    "flights_per_quarter = df.groupBy(\"Quarter\").agg(count(\"Quarter\").alias(\"num_flights_quarterly\")).toPandas()\n",
    "flights_per_quarter"
   ]
  },
  {
   "cell_type": "code",
   "execution_count": null,
   "metadata": {
    "application/vnd.databricks.v1+cell": {
     "cellMetadata": {
      "byteLimit": 2048000,
      "rowLimit": 10000
     },
     "inputWidgets": {},
     "nuid": "c8f39390-0e68-4430-8a5b-2377dff1729a",
     "showTitle": false,
     "title": ""
    }
   },
   "outputs": [],
   "source": [
    "#Plotting graph for Quaterly flights\n",
    "plt.figure(figsize=(15,10))\n",
    "sns.barplot(x = 'Quarter', y = 'num_flights_quarterly', data =flights_per_quarter)\n",
    "plt.title(\"Flights on Quarterly basis\", size = 20)"
   ]
  },
  {
   "cell_type": "markdown",
   "metadata": {
    "application/vnd.databricks.v1+cell": {
     "cellMetadata": {
      "byteLimit": 2048000,
      "rowLimit": 10000
     },
     "inputWidgets": {},
     "nuid": "b6dd96b8-e6d5-4493-a259-5cd9847e4c93",
     "showTitle": false,
     "title": ""
    }
   },
   "source": [
    "#### Nmuber of Flights in a Day of a Week"
   ]
  },
  {
   "cell_type": "code",
   "execution_count": null,
   "metadata": {
    "application/vnd.databricks.v1+cell": {
     "cellMetadata": {
      "byteLimit": 2048000,
      "rowLimit": 10000
     },
     "inputWidgets": {},
     "nuid": "5d39d68a-0aeb-4e86-9198-205f102e9bc6",
     "showTitle": false,
     "title": ""
    }
   },
   "outputs": [],
   "source": [
    "df_day = df.groupBy('DayOfWeek').count().sort(desc(\"count\")).toPandas()\n",
    "df_day"
   ]
  },
  {
   "cell_type": "markdown",
   "metadata": {
    "application/vnd.databricks.v1+cell": {
     "cellMetadata": {
      "byteLimit": 2048000,
      "rowLimit": 10000
     },
     "inputWidgets": {},
     "nuid": "02e1226c-74a6-43d0-952f-a7f2aa23b932",
     "showTitle": false,
     "title": ""
    }
   },
   "source": [
    "#### Busiest Day of the Week"
   ]
  },
  {
   "cell_type": "code",
   "execution_count": null,
   "metadata": {
    "application/vnd.databricks.v1+cell": {
     "cellMetadata": {
      "byteLimit": 2048000,
      "rowLimit": 10000
     },
     "inputWidgets": {},
     "nuid": "dfe2441a-cd8d-4091-ae0d-4db40a92762d",
     "showTitle": false,
     "title": ""
    }
   },
   "outputs": [],
   "source": [
    "plt.figure(figsize=(10,6))\n",
    "sns.barplot(x = 'DayOfWeek',y = 'count',data = df_day,color= \"#04D8B2\")\n",
    "plt.title(\"Busiest Day of the Week\", size = 20)"
   ]
  },
  {
   "cell_type": "markdown",
   "metadata": {
    "application/vnd.databricks.v1+cell": {
     "cellMetadata": {
      "byteLimit": 2048000,
      "rowLimit": 10000
     },
     "inputWidgets": {},
     "nuid": "359f522d-63dd-40a2-8cd9-9d16233c432e",
     "showTitle": false,
     "title": ""
    }
   },
   "source": [
    "#### Fight Count Based on Origin and Destination"
   ]
  },
  {
   "cell_type": "code",
   "execution_count": null,
   "metadata": {
    "application/vnd.databricks.v1+cell": {
     "cellMetadata": {
      "byteLimit": 2048000,
      "rowLimit": 10000
     },
     "inputWidgets": {},
     "nuid": "51754d47-5a2e-49b2-b210-d9a2c9e02926",
     "showTitle": false,
     "title": ""
    }
   },
   "outputs": [],
   "source": [
    "df_o = df.groupBy('Origin').count().sort(desc(\"count\")).toPandas()\n",
    "(df_o)"
   ]
  },
  {
   "cell_type": "code",
   "execution_count": null,
   "metadata": {
    "application/vnd.databricks.v1+cell": {
     "cellMetadata": {
      "byteLimit": 2048000,
      "rowLimit": 10000
     },
     "inputWidgets": {},
     "nuid": "11d81aac-1d5a-4f81-9e77-801b4883db21",
     "showTitle": false,
     "title": ""
    }
   },
   "outputs": [],
   "source": [
    "df_d = df.groupBy('Dest').count().sort(desc(\"count\")).toPandas()\n",
    "(df_d)"
   ]
  },
  {
   "cell_type": "markdown",
   "metadata": {
    "application/vnd.databricks.v1+cell": {
     "cellMetadata": {
      "byteLimit": 2048000,
      "rowLimit": 10000
     },
     "inputWidgets": {},
     "nuid": "fd14b4d8-9cd8-4fd3-b459-dbc3f1cd8477",
     "showTitle": false,
     "title": ""
    }
   },
   "source": [
    "#### No of Flights that are canceled"
   ]
  },
  {
   "cell_type": "code",
   "execution_count": null,
   "metadata": {
    "application/vnd.databricks.v1+cell": {
     "cellMetadata": {
      "byteLimit": 2048000,
      "rowLimit": 10000
     },
     "inputWidgets": {},
     "nuid": "4471b0ed-c89d-4f7e-a814-8aef419424d8",
     "showTitle": false,
     "title": ""
    }
   },
   "outputs": [],
   "source": [
    "#Number of flights cancelled\n",
    "df_c = df.groupBy('Cancelled_Flight').count().sort(desc(\"count\")).toPandas()\n",
    "(df_c)\n"
   ]
  },
  {
   "cell_type": "markdown",
   "metadata": {
    "application/vnd.databricks.v1+cell": {
     "cellMetadata": {
      "byteLimit": 2048000,
      "rowLimit": 10000
     },
     "inputWidgets": {},
     "nuid": "519006b1-08be-43e1-99e8-1362b7ae78ec",
     "showTitle": false,
     "title": ""
    }
   },
   "source": [
    "#### Scatter plot between Canceled Flights and Air Traffic"
   ]
  },
  {
   "cell_type": "code",
   "execution_count": null,
   "metadata": {
    "application/vnd.databricks.v1+cell": {
     "cellMetadata": {
      "byteLimit": 2048000,
      "rowLimit": 10000
     },
     "inputWidgets": {},
     "nuid": "9be030ee-d3d8-4199-b9cd-13b40b0cc30b",
     "showTitle": false,
     "title": ""
    }
   },
   "outputs": [],
   "source": [
    "df_pd = df.select('Cancelled_Flight', 'AirTraffic').toPandas()\n",
    "\n",
    "# Create a scatter plot\n",
    "plt.figure(figsize=(10, 6))\n",
    "plt.scatter(df_pd['AirTraffic'], df_pd['Cancelled_Flight'], alpha=0.5)\n",
    "plt.title('Canceled Flights vs Air Traffic')\n",
    "plt.xlabel('Air Traffic')\n",
    "plt.ylabel('Canceled Flights')\n",
    "plt.grid(True)\n",
    "plt.show()"
   ]
  },
  {
   "cell_type": "markdown",
   "metadata": {
    "application/vnd.databricks.v1+cell": {
     "cellMetadata": {
      "byteLimit": 2048000,
      "rowLimit": 10000
     },
     "inputWidgets": {},
     "nuid": "0fb85ca4-da94-4a1f-b870-627385aed0fa",
     "showTitle": false,
     "title": ""
    }
   },
   "source": [
    "#### Heatmap corealtion between DataFrame to determine the dependencies between features"
   ]
  },
  {
   "cell_type": "code",
   "execution_count": null,
   "metadata": {
    "application/vnd.databricks.v1+cell": {
     "cellMetadata": {
      "byteLimit": 2048000,
      "rowLimit": 10000
     },
     "inputWidgets": {},
     "nuid": "a61525b8-47b7-4fdf-b93d-709f27030149",
     "showTitle": false,
     "title": ""
    }
   },
   "outputs": [],
   "source": [
    "import seaborn as sns\n",
    "import matplotlib.pyplot as plt\n",
    "from pyspark.sql.functions import col\n",
    "\n",
    "numeric_cols = [col_name for col_name, col_type in df.dtypes if col_type in ['double', 'bigint', 'int']]\n",
    "\n",
    "# Select only numeric columns\n",
    "numeric = df.select(*numeric_cols).sample(False, 0.1).toPandas()\n",
    "\n",
    "correlationMatrix = numeric.corr()\n",
    "\n",
    "plt.figure(figsize=(20, 10))\n",
    "sns.heatmap(correlationMatrix, annot=True, cmap='coolwarm', fmt='.2f', linewidths=.5)\n",
    "plt.show()\n"
   ]
  },
  {
   "cell_type": "markdown",
   "metadata": {
    "application/vnd.databricks.v1+cell": {
     "cellMetadata": {
      "byteLimit": 2048000,
      "rowLimit": 10000
     },
     "inputWidgets": {},
     "nuid": "8eabd04a-f7ea-463a-9117-0af86d347277",
     "showTitle": false,
     "title": ""
    }
   },
   "source": [
    "#### To predict cancellation we are going to take AirTraffic as target value."
   ]
  }
 ],
 "metadata": {
  "application/vnd.databricks.v1+notebook": {
   "dashboards": [],
   "language": "python",
   "notebookMetadata": {
    "pythonIndentUnit": 4
   },
   "notebookName": "FlightCancelationPrediction",
   "widgets": {}
  },
  "language_info": {
   "name": "python"
  }
 },
 "nbformat": 4,
 "nbformat_minor": 0
}
