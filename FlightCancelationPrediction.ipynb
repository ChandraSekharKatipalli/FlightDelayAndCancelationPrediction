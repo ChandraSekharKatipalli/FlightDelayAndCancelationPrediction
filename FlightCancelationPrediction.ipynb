{
 "cells": [
  {
   "cell_type": "markdown",
   "metadata": {
    "application/vnd.databricks.v1+cell": {
     "cellMetadata": {
      "byteLimit": 2048000,
      "rowLimit": 10000
     },
     "inputWidgets": {},
     "nuid": "02ce0ea3-46de-4d44-a7bd-5de95d029921",
     "showTitle": false,
     "title": ""
    }
   },
   "source": [
    "## About Data\n",
    "- **Name** : Flight Status Prediction\n",
    "- **Source** : Kaggle (https://www.kaggle.com/datasets/robikscube/flight-delay-dataset-20182022)\n",
    "\n",
    "##### Description\n",
    "- This dataset contains all flight information including cancellation and delays by airline for dates back to January 2018 to year 2022. For your convenience you can use the Combined_Flights_XXXX.csv or Combined_Flights_XXXX.parquet files to access the combined data for the entire year.\n",
    "\n",
    "##### Columns\n",
    "- The DataSet has total of 61 columns and over 25M records.\n",
    "\n",
    "\n"
   ]
  },
  {
   "cell_type": "markdown",
   "metadata": {
    "application/vnd.databricks.v1+cell": {
     "cellMetadata": {
      "byteLimit": 2048000,
      "rowLimit": 10000
     },
     "inputWidgets": {},
     "nuid": "d22263cf-5e1b-4645-bc4f-ac784b985fb2",
     "showTitle": false,
     "title": ""
    }
   },
   "source": [
    "### Importing Required Libraries"
   ]
  },
  {
   "cell_type": "code",
   "execution_count": null,
   "metadata": {
    "application/vnd.databricks.v1+cell": {
     "cellMetadata": {
      "byteLimit": 2048000,
      "rowLimit": 10000
     },
     "inputWidgets": {},
     "nuid": "c26d0ba7-5a3e-4dc4-b61d-74cc212ac535",
     "showTitle": false,
     "title": ""
    }
   },
   "outputs": [],
   "source": [
    "import pyspark\n",
    "from pyspark.sql import SparkSession\n",
    "from pyspark.sql.types import StructType, StringType, IntegerType\n",
    "from pyspark.sql.functions import *"
   ]
  },
  {
   "cell_type": "markdown",
   "metadata": {
    "application/vnd.databricks.v1+cell": {
     "cellMetadata": {
      "byteLimit": 2048000,
      "rowLimit": 10000
     },
     "inputWidgets": {},
     "nuid": "7a624e70-d885-45d3-b1f5-605a20bc24a4",
     "showTitle": false,
     "title": ""
    }
   },
   "source": [
    "### Creating SparkSession with appName \"Data603_FinalProject\""
   ]
  },
  {
   "cell_type": "code",
   "execution_count": null,
   "metadata": {
    "application/vnd.databricks.v1+cell": {
     "cellMetadata": {
      "byteLimit": 2048000,
      "rowLimit": 10000
     },
     "inputWidgets": {},
     "nuid": "b1d5618f-db7a-4d8a-9c34-5a09594315c6",
     "showTitle": false,
     "title": ""
    }
   },
   "outputs": [],
   "source": [
    "spark = SparkSession.builder.appName('Data603_FinalProject').getOrCreate()"
   ]
  },
  {
   "cell_type": "markdown",
   "metadata": {
    "application/vnd.databricks.v1+cell": {
     "cellMetadata": {
      "byteLimit": 2048000,
      "rowLimit": 10000
     },
     "inputWidgets": {},
     "nuid": "e02e67c1-a1ae-45b4-92e3-41cdf763c639",
     "showTitle": false,
     "title": ""
    }
   },
   "source": [
    "### Importing Data from DBFS (Here we are choosing .parquet files because size issues)"
   ]
  },
  {
   "cell_type": "code",
   "execution_count": null,
   "metadata": {
    "application/vnd.databricks.v1+cell": {
     "cellMetadata": {
      "byteLimit": 2048000,
      "rowLimit": 10000
     },
     "inputWidgets": {},
     "nuid": "422b7a2c-5bfc-4d4e-bb7a-47bbe4d8d58f",
     "showTitle": false,
     "title": ""
    }
   },
   "outputs": [],
   "source": [
    "df = spark.read.parquet('/FileStore/tables/*.parquet')"
   ]
  },
  {
   "cell_type": "markdown",
   "metadata": {
    "application/vnd.databricks.v1+cell": {
     "cellMetadata": {
      "byteLimit": 2048000,
      "rowLimit": 10000
     },
     "inputWidgets": {},
     "nuid": "43400558-c8e2-4bed-a79b-c7ca601dd1d4",
     "showTitle": false,
     "title": ""
    }
   },
   "source": [
    "### Total Number of Records"
   ]
  },
  {
   "cell_type": "code",
   "execution_count": null,
   "metadata": {
    "application/vnd.databricks.v1+cell": {
     "cellMetadata": {
      "byteLimit": 2048000,
      "rowLimit": 10000
     },
     "inputWidgets": {},
     "nuid": "3619e552-9efe-4dad-bf55-d031bc71d772",
     "showTitle": false,
     "title": ""
    }
   },
   "outputs": [
    {
     "name": "stdout",
     "output_type": "stream",
     "text": [
      "Out[5]: 29193782"
     ]
    }
   ],
   "source": [
    "df.count()"
   ]
  },
  {
   "cell_type": "markdown",
   "metadata": {
    "application/vnd.databricks.v1+cell": {
     "cellMetadata": {
      "byteLimit": 2048000,
      "rowLimit": 10000
     },
     "inputWidgets": {},
     "nuid": "715be5d8-f56c-4ceb-ad82-06c76e2f4439",
     "showTitle": false,
     "title": ""
    }
   },
   "source": [
    "### DataFrame Overview"
   ]
  },
  {
   "cell_type": "code",
   "execution_count": null,
   "metadata": {
    "application/vnd.databricks.v1+cell": {
     "cellMetadata": {
      "byteLimit": 2048000,
      "rowLimit": 10000
     },
     "inputWidgets": {},
     "nuid": "a68739e1-5c89-4df8-af50-b148fdaddad2",
     "showTitle": false,
     "title": ""
    }
   },
   "outputs": [],
   "source": [
    "display(df)"
   ]
  },
  {
   "cell_type": "markdown",
   "metadata": {
    "application/vnd.databricks.v1+cell": {
     "cellMetadata": {
      "byteLimit": 2048000,
      "rowLimit": 10000
     },
     "inputWidgets": {},
     "nuid": "4864c875-8488-49bb-9e00-839fc9ebaade",
     "showTitle": false,
     "title": ""
    }
   },
   "source": [
    "### Schema of the DataFrame"
   ]
  },
  {
   "cell_type": "code",
   "execution_count": null,
   "metadata": {
    "application/vnd.databricks.v1+cell": {
     "cellMetadata": {
      "byteLimit": 2048000,
      "rowLimit": 10000
     },
     "inputWidgets": {},
     "nuid": "82eadfd9-a7f4-4fd6-b539-1550efff8a7e",
     "showTitle": false,
     "title": ""
    }
   },
   "outputs": [
    {
     "name": "stdout",
     "output_type": "stream",
     "text": [
      "root\n",
      " |-- FlightDate: timestamp (nullable = true)\n",
      " |-- Airline: string (nullable = true)\n",
      " |-- Origin: string (nullable = true)\n",
      " |-- Dest: string (nullable = true)\n",
      " |-- Cancelled: boolean (nullable = true)\n",
      " |-- Diverted: boolean (nullable = true)\n",
      " |-- CRSDepTime: long (nullable = true)\n",
      " |-- DepTime: double (nullable = true)\n",
      " |-- DepDelayMinutes: double (nullable = true)\n",
      " |-- DepDelay: double (nullable = true)\n",
      " |-- ArrTime: double (nullable = true)\n",
      " |-- ArrDelayMinutes: double (nullable = true)\n",
      " |-- AirTime: double (nullable = true)\n",
      " |-- CRSElapsedTime: double (nullable = true)\n",
      " |-- ActualElapsedTime: double (nullable = true)\n",
      " |-- Distance: double (nullable = true)\n",
      " |-- Year: long (nullable = true)\n",
      " |-- Quarter: long (nullable = true)\n",
      " |-- Month: long (nullable = true)\n",
      " |-- DayofMonth: long (nullable = true)\n",
      " |-- DayOfWeek: long (nullable = true)\n",
      " |-- Marketing_Airline_Network: string (nullable = true)\n",
      " |-- Operated_or_Branded_Code_Share_Partners: string (nullable = true)\n",
      " |-- DOT_ID_Marketing_Airline: long (nullable = true)\n",
      " |-- IATA_Code_Marketing_Airline: string (nullable = true)\n",
      " |-- Flight_Number_Marketing_Airline: long (nullable = true)\n",
      " |-- Operating_Airline: string (nullable = true)\n",
      " |-- DOT_ID_Operating_Airline: long (nullable = true)\n",
      " |-- IATA_Code_Operating_Airline: string (nullable = true)\n",
      " |-- Tail_Number: string (nullable = true)\n",
      " |-- Flight_Number_Operating_Airline: long (nullable = true)\n",
      " |-- OriginAirportID: long (nullable = true)\n",
      " |-- OriginAirportSeqID: long (nullable = true)\n",
      " |-- OriginCityMarketID: long (nullable = true)\n",
      " |-- OriginCityName: string (nullable = true)\n",
      " |-- OriginState: string (nullable = true)\n",
      " |-- OriginStateFips: long (nullable = true)\n",
      " |-- OriginStateName: string (nullable = true)\n",
      " |-- OriginWac: long (nullable = true)\n",
      " |-- DestAirportID: long (nullable = true)\n",
      " |-- DestAirportSeqID: long (nullable = true)\n",
      " |-- DestCityMarketID: long (nullable = true)\n",
      " |-- DestCityName: string (nullable = true)\n",
      " |-- DestState: string (nullable = true)\n",
      " |-- DestStateFips: long (nullable = true)\n",
      " |-- DestStateName: string (nullable = true)\n",
      " |-- DestWac: long (nullable = true)\n",
      " |-- DepDel15: double (nullable = true)\n",
      " |-- DepartureDelayGroups: double (nullable = true)\n",
      " |-- DepTimeBlk: string (nullable = true)\n",
      " |-- TaxiOut: double (nullable = true)\n",
      " |-- WheelsOff: double (nullable = true)\n",
      " |-- WheelsOn: double (nullable = true)\n",
      " |-- TaxiIn: double (nullable = true)\n",
      " |-- CRSArrTime: long (nullable = true)\n",
      " |-- ArrDelay: double (nullable = true)\n",
      " |-- ArrDel15: double (nullable = true)\n",
      " |-- ArrivalDelayGroups: double (nullable = true)\n",
      " |-- ArrTimeBlk: string (nullable = true)\n",
      " |-- DistanceGroup: long (nullable = true)\n",
      " |-- DivAirportLandings: double (nullable = true)\n",
      " |-- __index_level_0__: long (nullable = true)\n",
      "\n"
     ]
    }
   ],
   "source": [
    "df.printSchema()"
   ]
  },
  {
   "cell_type": "markdown",
   "metadata": {
    "application/vnd.databricks.v1+cell": {
     "cellMetadata": {
      "byteLimit": 2048000,
      "rowLimit": 10000
     },
     "inputWidgets": {},
     "nuid": "8d3d1668-b2e7-42bc-81ac-8183570d699c",
     "showTitle": false,
     "title": ""
    }
   },
   "source": [
    "# Data Cleaning"
   ]
  },
  {
   "cell_type": "markdown",
   "metadata": {
    "application/vnd.databricks.v1+cell": {
     "cellMetadata": {
      "byteLimit": 2048000,
      "rowLimit": 10000
     },
     "inputWidgets": {},
     "nuid": "b114e611-6fc6-4333-aefe-d28017688ad8",
     "showTitle": false,
     "title": ""
    }
   },
   "source": [
    "#### Finding Null Values"
   ]
  },
  {
   "cell_type": "code",
   "execution_count": null,
   "metadata": {
    "application/vnd.databricks.v1+cell": {
     "cellMetadata": {
      "byteLimit": 2048000,
      "rowLimit": 10000
     },
     "inputWidgets": {},
     "nuid": "15b6c8d8-40dc-488e-8d0f-e4626308827e",
     "showTitle": false,
     "title": ""
    }
   },
   "outputs": [],
   "source": [
    "def findMissing():\n",
    "    from pyspark.sql.functions import col, isnan, when\n",
    "    total_count = 0\n",
    "    for column in df.columns:\n",
    "        null_count = df[df[column].isNull()].count()\n",
    "        total_count = total_count + null_count\n",
    "        print(f\"Number of null or NA values in column {column}: {null_count}\")\n",
    "    \n",
    "    print(f'Total Null Values: {total_count}, Null Values Percentage: {total_count * 100/ df.count()}')"
   ]
  },
  {
   "cell_type": "markdown",
   "metadata": {
    "application/vnd.databricks.v1+cell": {
     "cellMetadata": {
      "byteLimit": 2048000,
      "rowLimit": 10000
     },
     "inputWidgets": {},
     "nuid": "479190bd-502d-4993-bbe1-3fb01ddc3618",
     "showTitle": false,
     "title": ""
    }
   },
   "source": [
    "#### Count of Null Values by Column"
   ]
  },
  {
   "cell_type": "code",
   "execution_count": null,
   "metadata": {
    "application/vnd.databricks.v1+cell": {
     "cellMetadata": {
      "byteLimit": 2048000,
      "rowLimit": 10000
     },
     "inputWidgets": {},
     "nuid": "15bdd8c0-32e1-4913-ae0b-bca579670db4",
     "showTitle": false,
     "title": ""
    }
   },
   "outputs": [
    {
     "name": "stdout",
     "output_type": "stream",
     "text": [
      "Number of null or NA values in column FlightDate: 0\n",
      "Number of null or NA values in column Airline: 0\n",
      "Number of null or NA values in column Origin: 0\n",
      "Number of null or NA values in column Dest: 0\n",
      "Number of null or NA values in column Cancelled: 0\n",
      "Number of null or NA values in column Diverted: 0\n",
      "Number of null or NA values in column CRSDepTime: 0\n",
      "Number of null or NA values in column DepTime: 761652\n",
      "Number of null or NA values in column DepDelayMinutes: 763084\n",
      "Number of null or NA values in column DepDelay: 763084\n",
      "Number of null or NA values in column ArrTime: 786177\n",
      "Number of null or NA values in column ArrDelayMinutes: 846183\n",
      "Number of null or NA values in column AirTime: 852561\n",
      "Number of null or NA values in column CRSElapsedTime: 22\n",
      "Number of null or NA values in column ActualElapsedTime: 845637\n",
      "Number of null or NA values in column Distance: 0\n",
      "Number of null or NA values in column Year: 0\n",
      "Number of null or NA values in column Quarter: 0\n",
      "Number of null or NA values in column Month: 0\n",
      "Number of null or NA values in column DayofMonth: 0\n",
      "Number of null or NA values in column DayOfWeek: 0\n",
      "Number of null or NA values in column Marketing_Airline_Network: 0\n",
      "Number of null or NA values in column Operated_or_Branded_Code_Share_Partners: 0\n",
      "Number of null or NA values in column DOT_ID_Marketing_Airline: 0\n",
      "Number of null or NA values in column IATA_Code_Marketing_Airline: 0\n",
      "Number of null or NA values in column Flight_Number_Marketing_Airline: 0\n",
      "Number of null or NA values in column Operating_Airline: 0\n",
      "Number of null or NA values in column DOT_ID_Operating_Airline: 0\n",
      "Number of null or NA values in column IATA_Code_Operating_Airline: 0\n",
      "Number of null or NA values in column Tail_Number: 267613\n",
      "Number of null or NA values in column Flight_Number_Operating_Airline: 0\n",
      "Number of null or NA values in column OriginAirportID: 0\n",
      "Number of null or NA values in column OriginAirportSeqID: 0\n",
      "Number of null or NA values in column OriginCityMarketID: 0\n",
      "Number of null or NA values in column OriginCityName: 0\n",
      "Number of null or NA values in column OriginState: 0\n",
      "Number of null or NA values in column OriginStateFips: 0\n",
      "Number of null or NA values in column OriginStateName: 0\n",
      "Number of null or NA values in column OriginWac: 0\n",
      "Number of null or NA values in column DestAirportID: 0\n",
      "Number of null or NA values in column DestAirportSeqID: 0\n",
      "Number of null or NA values in column DestCityMarketID: 0\n",
      "Number of null or NA values in column DestCityName: 0\n",
      "Number of null or NA values in column DestState: 0\n",
      "Number of null or NA values in column DestStateFips: 0\n",
      "Number of null or NA values in column DestStateName: 0\n",
      "Number of null or NA values in column DestWac: 0\n",
      "Number of null or NA values in column DepDel15: 763084\n",
      "Number of null or NA values in column DepartureDelayGroups: 763084\n",
      "Number of null or NA values in column DepTimeBlk: 0\n",
      "Number of null or NA values in column TaxiOut: 780561\n",
      "Number of null or NA values in column WheelsOff: 780551\n",
      "Number of null or NA values in column WheelsOn: 793133\n",
      "Number of null or NA values in column TaxiIn: 793143\n",
      "Number of null or NA values in column CRSArrTime: 0\n",
      "Number of null or NA values in column ArrDelay: 846183\n",
      "Number of null or NA values in column ArrDel15: 846183\n",
      "Number of null or NA values in column ArrivalDelayGroups: 846183\n",
      "Number of null or NA values in column ArrTimeBlk: 0\n",
      "Number of null or NA values in column DistanceGroup: 0\n",
      "Number of null or NA values in column DivAirportLandings: 90\n",
      "Number of null or NA values in column __index_level_0__: 0\n",
      "Total Null Values: 13098208, Null Values Percentage: 44.86643080365538\n"
     ]
    }
   ],
   "source": [
    "findMissing()"
   ]
  },
  {
   "cell_type": "markdown",
   "metadata": {
    "application/vnd.databricks.v1+cell": {
     "cellMetadata": {
      "byteLimit": 2048000,
      "rowLimit": 10000
     },
     "inputWidgets": {},
     "nuid": "7257f0db-63b8-4d45-a13d-77886b828714",
     "showTitle": false,
     "title": ""
    }
   },
   "source": [
    "###### Filling null values of DepDelayMinutes as DepDelay and DepDelayMinutes will be 0 if there is no Delay. \n",
    "###### Note: We considered DepTime as NotNull because if incase the flight has canceled then it may not have DepTime at all."
   ]
  },
  {
   "cell_type": "code",
   "execution_count": null,
   "metadata": {
    "application/vnd.databricks.v1+cell": {
     "cellMetadata": {
      "byteLimit": 2048000,
      "rowLimit": 10000
     },
     "inputWidgets": {},
     "nuid": "42890251-6dba-458c-b021-81628953306c",
     "showTitle": false,
     "title": ""
    }
   },
   "outputs": [],
   "source": [
    "df = df.withColumn(\"DepDelayMinutes\", when((col(\"DepDelay\").isNull()) & (col(\"DepDelayMinutes\").isNull()) & (col(\"DepTime\").isNotNull()), 0).otherwise(col(\"DepDelayMinutes\")))\n",
    "\n",
    "df = df.withColumn(\"DepDelay\", when((col(\"DepDelay\").isNull()) & (col(\"DepDelayMinutes\").isNull()) & (col(\"DepTime\").isNotNull()), 0).otherwise(col(\"DepDelay\")))"
   ]
  },
  {
   "cell_type": "markdown",
   "metadata": {
    "application/vnd.databricks.v1+cell": {
     "cellMetadata": {
      "byteLimit": 2048000,
      "rowLimit": 10000
     },
     "inputWidgets": {},
     "nuid": "3e5ea691-c11b-4456-91e0-1a5cea5913e3",
     "showTitle": false,
     "title": ""
    }
   },
   "source": [
    "#### Null value count after replacing with 0"
   ]
  },
  {
   "cell_type": "code",
   "execution_count": null,
   "metadata": {
    "application/vnd.databricks.v1+cell": {
     "cellMetadata": {
      "byteLimit": 2048000,
      "rowLimit": 10000
     },
     "inputWidgets": {},
     "nuid": "8cb71912-d9f3-492a-b2f7-707caf834d20",
     "showTitle": false,
     "title": ""
    }
   },
   "outputs": [
    {
     "name": "stdout",
     "output_type": "stream",
     "text": [
      "Count of null values in 'DepDelayMinutes': 761632\n",
      "Count of null values in 'DepDelay': 763084\n"
     ]
    }
   ],
   "source": [
    "null_count_depdelay_minutes = df.where(col(\"DepDelayMinutes\").isNull()).count()\n",
    "print(f\"Count of null values in 'DepDelayMinutes': {null_count_depdelay_minutes}\")\n",
    "\n",
    "null_count_depdelay = df.where(col(\"DepDelay\").isNull()).count()\n",
    "print(f\"Count of null values in 'DepDelay': {null_count_depdelay}\")\n"
   ]
  },
  {
   "cell_type": "markdown",
   "metadata": {
    "application/vnd.databricks.v1+cell": {
     "cellMetadata": {
      "byteLimit": 2048000,
      "rowLimit": 10000
     },
     "inputWidgets": {},
     "nuid": "25480ad4-b060-4fdf-9456-7252385c6ec5",
     "showTitle": false,
     "title": ""
    }
   },
   "source": [
    "#### Filling null values if DepTime is Null which means the flight has canceled"
   ]
  },
  {
   "cell_type": "code",
   "execution_count": null,
   "metadata": {
    "application/vnd.databricks.v1+cell": {
     "cellMetadata": {
      "byteLimit": 2048000,
      "rowLimit": 10000
     },
     "inputWidgets": {},
     "nuid": "0e4b44b8-2236-447a-8ac0-8c5fa2b521a8",
     "showTitle": false,
     "title": ""
    }
   },
   "outputs": [
    {
     "name": "stdout",
     "output_type": "stream",
     "text": [
      "Count of null values in 'DepDelayMinutes': 0\n",
      "Count of null values in 'DepDelay': 1452\n",
      "Count of null values in 'DepTime': 0\n"
     ]
    }
   ],
   "source": [
    "df = df.withColumn(\"DepDelayMinutes\", when((col(\"DepDelay\").isNull()) & (col(\"DepDelayMinutes\").isNull()) & (col(\"DepTime\").isNull()), 0).otherwise(col(\"DepDelayMinutes\")))\n",
    "\n",
    "df = df.withColumn(\"DepDelay\", when((col(\"DepDelay\").isNull()) & (col(\"DepDelayMinutes\") == 0) & (col(\"DepTime\").isNull()), 0).otherwise(col(\"DepDelay\")))\n",
    "\n",
    "df = df.withColumn(\"DepTime\", when((col(\"DepDelay\") == 0) & (col(\"DepDelayMinutes\") == 0) & (col(\"DepTime\").isNull()), 0).otherwise(col(\"DepTime\")))\n",
    "\n",
    "\n",
    "null_count_depdelay_minutes = df.where(col(\"DepDelayMinutes\").isNull()).count()\n",
    "print(f\"Count of null values in 'DepDelayMinutes': {null_count_depdelay_minutes}\")\n",
    "\n",
    "null_count_depdelay = df.where(col(\"DepDelay\").isNull()).count()\n",
    "print(f\"Count of null values in 'DepDelay': {null_count_depdelay}\")\n",
    "\n",
    "null_count_deptime = df.where(col(\"DepTime\").isNull()).count()\n",
    "print(f\"Count of null values in 'DepTime': {null_count_deptime}\")"
   ]
  },
  {
   "cell_type": "markdown",
   "metadata": {
    "application/vnd.databricks.v1+cell": {
     "cellMetadata": {
      "byteLimit": 2048000,
      "rowLimit": 10000
     },
     "inputWidgets": {},
     "nuid": "4695da01-cbb1-4c8c-9a7f-f786cd303053",
     "showTitle": false,
     "title": ""
    }
   },
   "source": [
    "#### Filling null values of DepDelay where CRSDepTime == DepTime. This means the flight is on time"
   ]
  },
  {
   "cell_type": "code",
   "execution_count": null,
   "metadata": {
    "application/vnd.databricks.v1+cell": {
     "cellMetadata": {
      "byteLimit": 2048000,
      "rowLimit": 10000
     },
     "inputWidgets": {},
     "nuid": "5e2629e9-dd5e-4645-8682-ad9cc14096fd",
     "showTitle": false,
     "title": ""
    }
   },
   "outputs": [],
   "source": [
    "df = df.withColumn(\"DepDelay\", when(col(\"CRSDepTime\") == col(\"DepTime\"), 0).otherwise(col(\"DepDelay\")))"
   ]
  },
  {
   "cell_type": "markdown",
   "metadata": {
    "application/vnd.databricks.v1+cell": {
     "cellMetadata": {
      "byteLimit": 2048000,
      "rowLimit": 10000
     },
     "inputWidgets": {},
     "nuid": "d08bc19e-2ae3-476b-b8fd-015aaa0509bb",
     "showTitle": false,
     "title": ""
    }
   },
   "source": [
    "# Featuring Engineering"
   ]
  },
  {
   "cell_type": "markdown",
   "metadata": {
    "application/vnd.databricks.v1+cell": {
     "cellMetadata": {
      "byteLimit": 2048000,
      "rowLimit": 10000
     },
     "inputWidgets": {},
     "nuid": "3665856f-5c8c-4ec7-8cdb-fdb98ba65505",
     "showTitle": false,
     "title": ""
    }
   },
   "source": [
    "#### Creating Delayed and EarlyDep using DepDelay"
   ]
  },
  {
   "cell_type": "code",
   "execution_count": null,
   "metadata": {
    "application/vnd.databricks.v1+cell": {
     "cellMetadata": {
      "byteLimit": 2048000,
      "rowLimit": 10000
     },
     "inputWidgets": {},
     "nuid": "b1d876b3-a234-4056-a6a4-a4a39c2cfb0f",
     "showTitle": false,
     "title": ""
    }
   },
   "outputs": [],
   "source": [
    "df = df.withColumn(\"Delayed\", when((col(\"DepDelay\") > 0) | (col(\"DepDelay\") == 0), 0).otherwise(1))\n",
    "df = df.withColumn(\"EarlyDep\", when((col(\"DepDelay\") < 0) | (col(\"DepDelay\") == 0), 0).otherwise(1))"
   ]
  },
  {
   "cell_type": "code",
   "execution_count": null,
   "metadata": {
    "application/vnd.databricks.v1+cell": {
     "cellMetadata": {
      "byteLimit": 2048000,
      "rowLimit": 10000
     },
     "inputWidgets": {},
     "nuid": "c6464e96-cd33-4cf6-9053-844a298bfdfb",
     "showTitle": false,
     "title": ""
    }
   },
   "outputs": [],
   "source": [
    "display(df)"
   ]
  },
  {
   "cell_type": "markdown",
   "metadata": {
    "application/vnd.databricks.v1+cell": {
     "cellMetadata": {
      "byteLimit": 2048000,
      "rowLimit": 10000
     },
     "inputWidgets": {},
     "nuid": "e2423d7b-fdd4-4987-a644-f77e8a01c46b",
     "showTitle": false,
     "title": ""
    }
   },
   "source": [
    "#### Encoding Cancelled and Diverted using StringIndexer"
   ]
  },
  {
   "cell_type": "code",
   "execution_count": null,
   "metadata": {
    "application/vnd.databricks.v1+cell": {
     "cellMetadata": {
      "byteLimit": 2048000,
      "rowLimit": 10000
     },
     "inputWidgets": {},
     "nuid": "bac6b7cc-833a-49a6-8036-cde29d827bd4",
     "showTitle": false,
     "title": ""
    }
   },
   "outputs": [],
   "source": [
    "df = df.withColumn(\"Cancelled\", col(\"Cancelled\").cast(\"string\"))\n",
    "df = df.withColumn(\"Diverted\", col(\"Diverted\").cast(\"string\"))"
   ]
  },
  {
   "cell_type": "code",
   "execution_count": null,
   "metadata": {
    "application/vnd.databricks.v1+cell": {
     "cellMetadata": {
      "byteLimit": 2048000,
      "rowLimit": 10000
     },
     "inputWidgets": {},
     "nuid": "983bee8c-d7dd-4519-8bf1-d0fe5216e1fd",
     "showTitle": false,
     "title": ""
    }
   },
   "outputs": [],
   "source": [
    "from pyspark.ml.feature import StringIndexer\n",
    "\n",
    "# Create a StringIndexer\n",
    "indexer_C = StringIndexer(inputCol=\"Cancelled\", outputCol=\"Cancelled_Flight\")\n",
    "\n",
    "# Fit and transform the DataFrame\n",
    "df = indexer_C.fit(df).transform(df)"
   ]
  },
  {
   "cell_type": "code",
   "execution_count": null,
   "metadata": {
    "application/vnd.databricks.v1+cell": {
     "cellMetadata": {
      "byteLimit": 2048000,
      "rowLimit": 10000
     },
     "inputWidgets": {},
     "nuid": "e89ce871-b2f8-4048-8381-bb1de2732ab5",
     "showTitle": false,
     "title": ""
    }
   },
   "outputs": [],
   "source": [
    "from pyspark.ml.feature import StringIndexer\n",
    "\n",
    "# Create a StringIndexer\n",
    "indexer_D = StringIndexer(inputCol=\"Diverted\", outputCol=\"Diverted_Flight\")\n",
    "\n",
    "# Fit and transform the DataFrame\n",
    "df = indexer_D.fit(df).transform(df)"
   ]
  },
  {
   "cell_type": "code",
   "execution_count": null,
   "metadata": {
    "application/vnd.databricks.v1+cell": {
     "cellMetadata": {
      "byteLimit": 2048000,
      "rowLimit": 10000
     },
     "inputWidgets": {},
     "nuid": "a4a182db-f861-4302-9123-d26797004563",
     "showTitle": false,
     "title": ""
    }
   },
   "outputs": [],
   "source": [
    "display(df)"
   ]
  },
  {
   "cell_type": "markdown",
   "metadata": {
    "application/vnd.databricks.v1+cell": {
     "cellMetadata": {
      "byteLimit": 2048000,
      "rowLimit": 10000
     },
     "inputWidgets": {},
     "nuid": "fe97885a-c946-463a-bc30-0f959e28292f",
     "showTitle": false,
     "title": ""
    }
   },
   "source": [
    "#### Dropping unwanted Columns"
   ]
  },
  {
   "cell_type": "code",
   "execution_count": null,
   "metadata": {
    "application/vnd.databricks.v1+cell": {
     "cellMetadata": {
      "byteLimit": 2048000,
      "rowLimit": 10000
     },
     "inputWidgets": {},
     "nuid": "a713e03a-3e04-47c5-89a1-018bf357941d",
     "showTitle": false,
     "title": ""
    }
   },
   "outputs": [],
   "source": [
    "df = df.drop(\"Cancelled\")\n",
    "df = df.drop(\"Diverted\")\n",
    "df = df.drop(\"FlightDate\")"
   ]
  },
  {
   "cell_type": "code",
   "execution_count": null,
   "metadata": {
    "application/vnd.databricks.v1+cell": {
     "cellMetadata": {
      "byteLimit": 2048000,
      "rowLimit": 10000
     },
     "inputWidgets": {},
     "nuid": "c413513d-42bc-4fff-8be0-60a5ab07f2fb",
     "showTitle": false,
     "title": ""
    }
   },
   "outputs": [],
   "source": [
    "df = df.drop(\"DepDelayMinutes\")\n",
    "df = df.drop(\"DepDelay\")"
   ]
  },
  {
   "cell_type": "code",
   "execution_count": null,
   "metadata": {
    "application/vnd.databricks.v1+cell": {
     "cellMetadata": {
      "byteLimit": 2048000,
      "rowLimit": 10000
     },
     "inputWidgets": {},
     "nuid": "7f51a4ed-2e65-4fbd-a294-c83f8f39c8ec",
     "showTitle": false,
     "title": ""
    }
   },
   "outputs": [],
   "source": [
    "df = df.drop(\"Operated_or_Branded_Code_Share_Partners\")\n",
    "df = df.drop(\"DOT_ID_Marketing_Airline\")\n",
    "df = df.drop(\"IATA_Code_Marketing_Airline\")\n",
    "df = df.drop(\"Flight_Number_Marketing_Airline\")\n",
    "df = df.drop(\"Operating_Airline\")\n",
    "df = df.drop(\"DOT_ID_Operating_Airline\")\n",
    "df = df.drop(\"IATA_Code_Operating_Airline\")\n",
    "df = df.drop(\"Tail_Number\")\n",
    "df = df.drop(\"Flight_Number_Operating_Airline\")\n",
    "df = df.drop(\"OriginAirportID\")\n",
    "df = df.drop(\"OriginAirportSeqID\")\n",
    "df = df.drop(\"OriginCityMarketID\")\n",
    "df = df.drop(\"OriginStateFips\")\n",
    "df = df.drop(\"OriginWac\")\n",
    "df = df.drop(\"DestAirportID\")\n",
    "df = df.drop(\"DestAirportSeqID\")\n",
    "df = df.drop(\"DestCityMarketID\")\n",
    "df = df.drop(\"DestStateFips\")\n",
    "df = df.drop(\"DestWac\")\n",
    "df = df.drop(\"DepTimeBlk\")\n",
    "df = df.drop(\"ArrTimeBlk\")"
   ]
  },
  {
   "cell_type": "code",
   "execution_count": null,
   "metadata": {
    "application/vnd.databricks.v1+cell": {
     "cellMetadata": {
      "byteLimit": 2048000,
      "rowLimit": 10000
     },
     "inputWidgets": {},
     "nuid": "6d642ab8-a9f9-476d-a360-aaf5c6980c8a",
     "showTitle": false,
     "title": ""
    }
   },
   "outputs": [
    {
     "name": "stdout",
     "output_type": "stream",
     "text": [
      "Number of null or NA values in column Airline: 0\n",
      "Number of null or NA values in column Origin: 0\n",
      "Number of null or NA values in column Dest: 0\n",
      "Number of null or NA values in column CRSDepTime: 0\n",
      "Number of null or NA values in column DepTime: 0\n",
      "Number of null or NA values in column ArrTime: 786177\n",
      "Number of null or NA values in column ArrDelayMinutes: 846183\n",
      "Number of null or NA values in column AirTime: 852561\n",
      "Number of null or NA values in column CRSElapsedTime: 22\n",
      "Number of null or NA values in column ActualElapsedTime: 845637\n",
      "Number of null or NA values in column Distance: 0\n",
      "Number of null or NA values in column Year: 0\n",
      "Number of null or NA values in column Quarter: 0\n",
      "Number of null or NA values in column Month: 0\n",
      "Number of null or NA values in column DayofMonth: 0\n",
      "Number of null or NA values in column DayOfWeek: 0\n",
      "Number of null or NA values in column Marketing_Airline_Network: 0\n",
      "Number of null or NA values in column OriginCityName: 0\n",
      "Number of null or NA values in column OriginState: 0\n",
      "Number of null or NA values in column OriginStateName: 0\n",
      "Number of null or NA values in column DestCityName: 0\n",
      "Number of null or NA values in column DestState: 0\n",
      "Number of null or NA values in column DestStateName: 0\n",
      "Number of null or NA values in column DepDel15: 763084\n",
      "Number of null or NA values in column DepartureDelayGroups: 763084\n",
      "Number of null or NA values in column TaxiOut: 780561\n",
      "Number of null or NA values in column WheelsOff: 780551\n",
      "Number of null or NA values in column WheelsOn: 793133\n",
      "Number of null or NA values in column TaxiIn: 793143\n",
      "Number of null or NA values in column CRSArrTime: 0\n",
      "Number of null or NA values in column ArrDelay: 846183\n",
      "Number of null or NA values in column ArrDel15: 846183\n",
      "Number of null or NA values in column ArrivalDelayGroups: 846183\n",
      "Number of null or NA values in column DistanceGroup: 0\n",
      "Number of null or NA values in column DivAirportLandings: 90\n",
      "Number of null or NA values in column __index_level_0__: 0\n",
      "Number of null or NA values in column Delayed: 0\n",
      "Number of null or NA values in column EarlyDep: 0\n",
      "Number of null or NA values in column Cancelled_Flight: 0\n",
      "Number of null or NA values in column Diverted_Flight: 0\n",
      "Total Null Values: 10542775, Null Values Percentage: 36.113083943697326\n"
     ]
    }
   ],
   "source": [
    "findMissing()"
   ]
  },
  {
   "cell_type": "markdown",
   "metadata": {
    "application/vnd.databricks.v1+cell": {
     "cellMetadata": {
      "byteLimit": 2048000,
      "rowLimit": 10000
     },
     "inputWidgets": {},
     "nuid": "ecb8724e-4ef5-44d2-b97e-3ce464ed38c3",
     "showTitle": false,
     "title": ""
    }
   },
   "source": [
    "#### Creating 'AirTraffic' column based on total of flights that are scheduled on the same hour, day, month, year."
   ]
  },
  {
   "cell_type": "code",
   "execution_count": null,
   "metadata": {
    "application/vnd.databricks.v1+cell": {
     "cellMetadata": {
      "byteLimit": 2048000,
      "rowLimit": 10000
     },
     "inputWidgets": {},
     "nuid": "c7a2e3d7-96f3-48e1-8f8c-b2a6e073a617",
     "showTitle": false,
     "title": ""
    }
   },
   "outputs": [],
   "source": [
    "df = df.withColumn(\"DepTime\", col(\"DepTime\").cast('string'))\n",
    "\n",
    "df = df.withColumn(\"hour\", when(length(col(\"DepTime\")) == 6, col(\"DepTime\").substr(1, 2)).otherwise(col(\"DepTime\").substr(1, 1)))"
   ]
  },
  {
   "cell_type": "code",
   "execution_count": null,
   "metadata": {
    "application/vnd.databricks.v1+cell": {
     "cellMetadata": {
      "byteLimit": 2048000,
      "rowLimit": 10000
     },
     "inputWidgets": {},
     "nuid": "9761c843-73b3-4560-af5e-924dbbbdd071",
     "showTitle": false,
     "title": ""
    }
   },
   "outputs": [],
   "source": [
    "df = df.drop(\"DepTime\")"
   ]
  },
  {
   "cell_type": "code",
   "execution_count": null,
   "metadata": {
    "application/vnd.databricks.v1+cell": {
     "cellMetadata": {
      "byteLimit": 2048000,
      "rowLimit": 10000
     },
     "inputWidgets": {},
     "nuid": "ded87cfe-26ee-47e1-a986-dcef179c8c65",
     "showTitle": false,
     "title": ""
    }
   },
   "outputs": [],
   "source": [
    "from pyspark.sql.window import Window\n",
    "\n",
    "windowSpec = Window.partitionBy(\"Origin\", \"hour\", \"DayofMonth\", \"Month\", \"Year\")\n",
    "\n",
    "df = df.withColumn(\"AirTraffic\", count(\"*\").over(windowSpec))"
   ]
  },
  {
   "cell_type": "code",
   "execution_count": null,
   "metadata": {
    "application/vnd.databricks.v1+cell": {
     "cellMetadata": {
      "byteLimit": 2048000,
      "rowLimit": 10000
     },
     "inputWidgets": {},
     "nuid": "df7c19a7-9146-484a-bbb9-76e852bf5e49",
     "showTitle": false,
     "title": ""
    }
   },
   "outputs": [],
   "source": [
    "df = df.drop(\"DivAirportLandings\")"
   ]
  },
  {
   "cell_type": "markdown",
   "metadata": {
    "application/vnd.databricks.v1+cell": {
     "cellMetadata": {
      "byteLimit": 2048000,
      "rowLimit": 10000
     },
     "inputWidgets": {},
     "nuid": "ca32a068-c556-4e15-932a-1f75dfff2614",
     "showTitle": false,
     "title": ""
    }
   },
   "source": [
    "#### Displaying Final DataFrame"
   ]
  },
  {
   "cell_type": "code",
   "execution_count": null,
   "metadata": {
    "application/vnd.databricks.v1+cell": {
     "cellMetadata": {
      "byteLimit": 2048000,
      "rowLimit": 10000
     },
     "inputWidgets": {},
     "nuid": "1fc361a7-4c1c-4e77-b06d-a08afa617f09",
     "showTitle": false,
     "title": ""
    }
   },
   "outputs": [],
   "source": [
    "display(df)"
   ]
  }
 ],
 "metadata": {
  "application/vnd.databricks.v1+notebook": {
   "dashboards": [],
   "language": "python",
   "notebookMetadata": {
    "pythonIndentUnit": 4
   },
   "notebookName": "FlightCancelationPrediction",
   "widgets": {}
  },
  "language_info": {
   "name": "python"
  }
 },
 "nbformat": 4,
 "nbformat_minor": 0
}
